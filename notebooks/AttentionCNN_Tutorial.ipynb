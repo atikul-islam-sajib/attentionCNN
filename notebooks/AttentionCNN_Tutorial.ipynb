{
 "cells": [
  {
   "cell_type": "markdown",
   "id": "cb9b83d9",
   "metadata": {},
   "source": [
    "# Tutorial: Running the AttentionCNN Model\n",
    "\n",
    "This notebook will guide you through the steps to clone the repository, set up the environment, and run the training and testing scripts for the AttentionCNN model."
   ]
  },
  {
   "cell_type": "markdown",
   "id": "4f67a65d",
   "metadata": {},
   "source": [
    "## Step 1: Clone the Repository\n",
    "\n",
    "First, you need to clone the repository from GitHub to your local machine."
   ]
  },
  {
   "cell_type": "code",
   "execution_count": null,
   "id": "0e186577",
   "metadata": {},
   "outputs": [],
   "source": [
    "!git clone https://github.com/atikul-islam-sajib/attentionCNN.git"
   ]
  },
  {
   "cell_type": "code",
   "execution_count": null,
   "id": "79d4bf88",
   "metadata": {},
   "outputs": [],
   "source": [
    "%cd attentionCNN"
   ]
  },
  {
   "cell_type": "markdown",
   "id": "10de7948",
   "metadata": {},
   "source": [
    "## Step 2: Set Up the Environment\n",
    "\n",
    "### Create a Virtual Environment (Optional but Recommended)\n",
    "\n",
    "It's a good practice to create a virtual environment to manage dependencies."
   ]
  },
  {
   "cell_type": "code",
   "execution_count": null,
   "id": "0957a5d3",
   "metadata": {},
   "outputs": [],
   "source": [
    "!python -m venv venv"
   ]
  },
  {
   "cell_type": "markdown",
   "id": "18cde67c",
   "metadata": {},
   "source": [
    "Activate the virtual environment:\n",
    "\n",
    "- On Windows:\n",
    "  ```bash\n",
    "  .\\venv\\Scripts\\activate\n",
    "  ```\n",
    "\n",
    "- On macOS/Linux:\n",
    "  ```bash\n",
    "  source venv/bin/activate\n",
    "  ```"
   ]
  },
  {
   "cell_type": "markdown",
   "id": "006b82c6",
   "metadata": {},
   "source": [
    "### Install the Required Dependencies\n",
    "\n",
    "Install all necessary Python packages using `pip`:"
   ]
  },
  {
   "cell_type": "code",
   "execution_count": null,
   "id": "fb8f437e",
   "metadata": {},
   "outputs": [],
   "source": [
    "!pip install -r requirements.txt"
   ]
  },
  {
   "cell_type": "markdown",
   "id": "0d5842fe",
   "metadata": {},
   "source": [
    "If your project doesn't have a `requirements.txt`, you can install the dependencies manually, for example:"
   ]
  },
  {
   "cell_type": "code",
   "execution_count": null,
   "id": "0616d255",
   "metadata": {},
   "outputs": [],
   "source": [
    "!pip install torch torchvision mlflow argparse"
   ]
  },
  {
   "cell_type": "markdown",
   "id": "39276e67",
   "metadata": {},
   "source": [
    "## Step 3: Prepare the Dataset\n",
    "\n",
    "Place your dataset in the specified directory. For example, if your dataset is in a zip file:"
   ]
  },
  {
   "cell_type": "code",
   "execution_count": null,
   "id": "ffd0c80b",
   "metadata": {},
   "outputs": [],
   "source": [
    "!unzip /path/to/dataset.zip -d ./data/raw/"
   ]
  },
  {
   "cell_type": "markdown",
   "id": "69759a8d",
   "metadata": {},
   "source": [
    "Ensure that the dataset path in the configuration file or command line matches the location where the dataset is stored."
   ]
  },
  {
   "cell_type": "markdown",
   "id": "1319c084",
   "metadata": {},
   "source": [
    "## Step 4: Training the Model\n",
    "\n",
    "You can start training the model by running the following command:"
   ]
  },
  {
   "cell_type": "code",
   "execution_count": null,
   "id": "92e36f34",
   "metadata": {},
   "outputs": [],
   "source": [
    "!python cli.py --train --image_path ./data/raw/dataset.zip --image_size 128 --batch_size 16 --epochs 500 --lr 0.0001 --momentum 0.95 --adam True --loss mse --device cuda --verbose True --mlflow True --weight_init True"
   ]
  },
  {
   "cell_type": "markdown",
   "id": "0585c122",
   "metadata": {},
   "source": [
    "**Explanation of the Command:**\n",
    "\n",
    "- `--train`: Specifies that you want to train the model.\n",
    "- `--image_path`: Path to the dataset.\n",
    "- `--image_size`: Size of the images.\n",
    "- `--batch_size`: Number of images per batch.\n",
    "- `--epochs`: Number of epochs to train the model.\n",
    "- `--lr`: Learning rate.\n",
    "- `--momentum`: Momentum for the optimizer.\n",
    "- `--adam`: Use Adam optimizer.\n",
    "- `--loss`: Loss function to use.\n",
    "- `--device`: Device to run the training on (`cpu`, `cuda`, etc.).\n",
    "- `--verbose`: Enable verbose output.\n",
    "- `--mlflow`: Track the experiment with MLflow.\n",
    "- `--weight_init`: Initialize model weights."
   ]
  },
  {
   "cell_type": "markdown",
   "id": "bc94e382",
   "metadata": {},
   "source": [
    "## Step 5: Testing the Model\n",
    "\n",
    "After training, you can test the model using the following command:"
   ]
  },
  {
   "cell_type": "code",
   "execution_count": null,
   "id": "d33d01a1",
   "metadata": {},
   "outputs": [],
   "source": [
    "!python cli.py --test --data test --device cuda --verbose True"
   ]
  },
  {
   "cell_type": "markdown",
   "id": "6f46480a",
   "metadata": {},
   "source": [
    "**Explanation of the Command:**\n",
    "\n",
    "- `--test`: Specifies that you want to test the model.\n",
    "- `--data`: The dataset to use for testing (`test` or `valid`).\n",
    "- `--device`: Device to run the testing on (`cpu`, `cuda`, etc.).\n",
    "- `--verbose`: Enable verbose output."
   ]
  },
  {
   "cell_type": "markdown",
   "id": "fc86ef56",
   "metadata": {},
   "source": [
    "## Step 6: Tracking Experiments with MLflow\n",
    "\n",
    "If you've enabled MLflow tracking, you can view your experiment results in the MLflow dashboard:"
   ]
  },
  {
   "cell_type": "code",
   "execution_count": null,
   "id": "ebb7d143",
   "metadata": {},
   "outputs": [],
   "source": [
    "!mlflow ui"
   ]
  },
  {
   "cell_type": "markdown",
   "id": "6496c8c4",
   "metadata": {},
   "source": [
    "This command will start an MLflow server that you can access via your web browser. It typically runs on `http://localhost:5000`."
   ]
  },
  {
   "cell_type": "markdown",
   "id": "98d34d95",
   "metadata": {},
   "source": [
    "## Conclusion\n",
    "\n",
    "This notebook has walked you through the steps needed to clone the repository, set up your environment, and run the training and testing scripts for the AttentionCNN model. You should now be able to train and evaluate the model on your own datasets. If you encounter any issues, please refer to the documentation or raise an issue in the repository."
   ]
  }
 ],
 "metadata": {},
 "nbformat": 4,
 "nbformat_minor": 5
}
